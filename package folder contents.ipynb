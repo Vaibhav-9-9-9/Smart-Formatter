{
 "cells": [
  {
   "cell_type": "code",
   "execution_count": null,
   "id": "82a44187-32ec-4d07-8b7c-2a2f52d4987b",
   "metadata": {},
   "outputs": [],
   "source": []
  },
  {
   "cell_type": "code",
   "execution_count": 2,
   "id": "30eea11c-17cf-4b43-9e0e-9d8db02c68a3",
   "metadata": {},
   "outputs": [
    {
     "name": "stderr",
     "output_type": "stream",
     "text": [
      "A subdirectory or file smartformatter already exists.\n"
     ]
    }
   ],
   "source": [
    "!mkdir smartformatter"
   ]
  },
  {
   "cell_type": "code",
   "execution_count": null,
   "id": "6930e422-0ea8-4133-86b0-c06422d11aa2",
   "metadata": {},
   "outputs": [],
   "source": []
  },
  {
   "cell_type": "code",
   "execution_count": 3,
   "id": "4de93f97-388d-44f0-b92e-a0728be1dca3",
   "metadata": {},
   "outputs": [
    {
     "name": "stdout",
     "output_type": "stream",
     "text": [
      "Overwriting setup.py\n"
     ]
    }
   ],
   "source": [
    "%%writefile setup.py\n",
    "\n",
    "from setuptools import setup, find_packages\n",
    "\n",
    "setup(\n",
    "    name='smartformatter',\n",
    "    version='0.1',\n",
    "    packages=find_packages(),\n",
    "    install_requires=['inflect'],\n",
    "    author='Vaibhav',\n",
    "    description='Utility functions for smart formatting of names, phones, numbers.',\n",
    "    \n",
    ")"
   ]
  },
  {
   "cell_type": "code",
   "execution_count": null,
   "id": "44f5c45b-9137-4ea4-9db5-a823cb55d9c5",
   "metadata": {},
   "outputs": [],
   "source": []
  }
 ],
 "metadata": {
  "kernelspec": {
   "display_name": "Python [conda env:base] *",
   "language": "python",
   "name": "conda-base-py"
  },
  "language_info": {
   "codemirror_mode": {
    "name": "ipython",
    "version": 3
   },
   "file_extension": ".py",
   "mimetype": "text/x-python",
   "name": "python",
   "nbconvert_exporter": "python",
   "pygments_lexer": "ipython3",
   "version": "3.12.7"
  }
 },
 "nbformat": 4,
 "nbformat_minor": 5
}
